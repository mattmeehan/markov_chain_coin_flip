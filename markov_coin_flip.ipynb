{
 "cells": [
  {
   "cell_type": "markdown",
   "metadata": {},
   "source": [
    "# Problem \n",
    "Kenneth has $4 and David has $3. They each bet $1 on a fair coin flip until one of them runs out of money. What is the relative probability of each one winning"
   ]
  },
  {
   "cell_type": "markdown",
   "metadata": {},
   "source": [
    "# Solution:\n",
    "Much of the math used here was taken from:\n",
    "\n",
    "https://www.dartmouth.edu/~chance/teaching_aids/books_articles/probability_book/Chapter11.pdf\n",
    "\n",
    "\n",
    "Model the system as an absorbing Markov chain with state space:\n",
    "\n",
    "    states = {0, 1, 2, 3, 4, 5, 6, 7}\n",
    "\n",
    "where each state corresponding to the amount of money currently held by one person. States 0 and 7 are the absorbing states, i.e., once the system enters those states they cannot transition to other states. States 1-5 are transition states.\n",
    "    \n",
    "Probability of transitioning from current state to -1 or +1 state is 0.5 and 0 for all other states\n",
    "\n",
    "    P(i,i+1) = 0.5\n",
    "    P(i+1,i) = 0.5\n",
    "\n",
    "Once in the winning state, stay in the winning state\n",
    "\n",
    "    P(7,7) = 1\n",
    "\n",
    "Similarly, once in the losing state, stay in the losing state\n",
    "\n",
    "    P(0,0) = 1\n",
    "    \n",
    "\n",
    "### Canonical form\n",
    "With the transition probability matrix in hand, we can re-write it in canonical form:\n",
    "\n",
    "\\begin{equation}\n",
    "  P = \\begin{bmatrix}\n",
    "    Q & R \\\\\n",
    "    0 & I \n",
    "  \\end{bmatrix}\n",
    "\\end{equation}\n",
    "\n",
    "where $Q$ describes the probabilities of transitioning among the transient statess, $R$ descfibes the probabilities of transitioning from transient states to absorbing states, and I is the identity matrix.\n",
    "\n",
    "The probability of transitining from state $i$ to state $j$ after n steps (or n flips in this case) is given by the $(i,j)$ entry in $Q^n$.\n",
    "\n",
    "### Fundamental matrix\n",
    "\n",
    "By summing $Q^k$ from $k=0$ to $k=\\infty$, we get the expectation for the number of times the system is in state $j$ if it started in state $i$, which is the fundamental matrix, $N$. This the the sum of the probabilities for transitioning from/to each state over all possible states of the system (0 steps, or coin flips, to $\\infty$ steps, or coin flips). It has been proven (certainly not by me) that:\n",
    "\n",
    "\\begin{equation}\n",
    "N = \\sum _ { k = 0 } ^ { \\infty } Q ^ { k } = \\left( I _ { t } - Q \\right) ^ { - 1 }\n",
    "\\end{equation}\n",
    "\n",
    "We can use the fundamental matrix with the components of the transition matrix in fundamental form to calculate lots of useful quantities!\n",
    "\n",
    "### Absorption probabilities\n",
    "We are trying to calculate the relative probabilities of David or Kenneth winning the bet, i.e., the probabilities of ending up in either absorbing state given a particular starting state (in this case the starting state is 3 or 4, depending on whom we're modeling).\n",
    "\n",
    "Since we know the probabilities for transitioning from transient states to absorbing states, $R$, and the expected number of times the system is in each state, $N$, we can calculate the absorbtion probabilities:\n",
    "\n",
    "\\begin{equation}\n",
    "B = NR\n",
    "\\end{equation}\n",
    "\n",
    "Each entry in B is the probability of starting in state $i$ and being absorbed into state $j$.\n"
   ]
  },
  {
   "cell_type": "code",
   "execution_count": 1,
   "metadata": {},
   "outputs": [],
   "source": [
    "import numpy as np\n",
    "import matplotlib.pyplot as plt\n",
    "import seaborn as sns\n",
    "from copy import deepcopy\n",
    "\n",
    "%matplotlib inline"
   ]
  },
  {
   "cell_type": "code",
   "execution_count": 2,
   "metadata": {},
   "outputs": [],
   "source": [
    "sns.set_context(context='poster')\n",
    "plt.rcParams['figure.figsize'] = (10, 8)\n",
    "plt.rcParams['lines.markeredgewidth'] = 2"
   ]
  },
  {
   "cell_type": "code",
   "execution_count": 3,
   "metadata": {},
   "outputs": [],
   "source": [
    "# Define the total amount of money in play and initialize the transition matrix\n",
    "total_dollars = 7\n",
    "P = np.zeros(shape=(total_dollars+1, total_dollars+1))\n",
    "\n",
    "# Probabilty of transitioning to -1/+1 state = 0.5\n",
    "for i in range(P.shape[0]-1):\n",
    "    P[i,i+1] = .5\n",
    "    P[i+1,i] = .5\n",
    "    \n",
    "# Once in the winning or losing sate, i.e., all money or no money, stay there\n",
    "P[0,:] = 0\n",
    "P[0,0] = 1\n",
    "P[total_dollars,:] = 0\n",
    "P[total_dollars, total_dollars] = 1\n",
    "    \n",
    "# Check that all rows are normalized to 1\n",
    "assert np.all(np.sum(P,axis=1)==1), 'Rows are not properly normalized'"
   ]
  },
  {
   "cell_type": "code",
   "execution_count": 4,
   "metadata": {},
   "outputs": [],
   "source": [
    "# Express the transition matrix in canonical form\n",
    "# Move transition probabilities from/to absorbing states to the last rows/cols\n",
    "C = deepcopy(P)\n",
    "C = np.roll(C,-1,axis=0)\n",
    "C = np.roll(C,-1, axis=1)\n",
    "\n",
    "# Matrix indices now refer to following states:\n",
    "state_order = [1,2,3,4,5,6,7,0]\n",
    "#    e.g. C(0,7) == P(state 1 -> state 0) = 0.5 \n",
    "#    e.g. C(6,6) == P(state 7 -> state 7) = 1\n",
    "\n",
    "\n",
    "# Fundamental matrix, N,  gives the expected number of times that the system will be\n",
    "# in each transient state before absorbing given a particular starting state (row)\n",
    "# Fundamental matrix N = (I-Q)^-1\n",
    "Q = C[:6,:6]\n",
    "I = np.identity(6)\n",
    "N = np.linalg.inv(I-Q)\n",
    "\n",
    "# R matrix of absorbtion probabilities \n",
    "R = C[:6,6:]\n",
    "\n",
    "# Probability of each starting state ending in absorbing state\n",
    "# B = NR\n",
    "B = np.dot(N,R)"
   ]
  },
  {
   "cell_type": "code",
   "execution_count": 5,
   "metadata": {},
   "outputs": [
    {
     "name": "stdout",
     "output_type": "stream",
     "text": [
      "P(David wins) = 0.429\n",
      "P(Kenneth wins) = 0.571\n"
     ]
    }
   ],
   "source": [
    "print('P(David wins) = {:.3f}'.format(B[2,0]))\n",
    "print('P(Kenneth wins) = {:.3f}'.format(1-B[2,0]))"
   ]
  },
  {
   "cell_type": "markdown",
   "metadata": {},
   "source": [
    "## Evolution of system after N flips\n",
    "Just fo fun - we can see how the system evolves with coin flips"
   ]
  },
  {
   "cell_type": "code",
   "execution_count": 6,
   "metadata": {},
   "outputs": [],
   "source": [
    "# Get the transition matrix after n_flips\n",
    "def flip(n_flips):\n",
    "    return np.linalg.matrix_power(P,n_flips)   "
   ]
  },
  {
   "cell_type": "code",
   "execution_count": 7,
   "metadata": {},
   "outputs": [],
   "source": [
    "# Define initial state where David has $3\n",
    "initial_state = np.zeros(total_dollars+1)\n",
    "initial_state[3] = 1"
   ]
  },
  {
   "cell_type": "code",
   "execution_count": 8,
   "metadata": {},
   "outputs": [
    {
     "name": "stdout",
     "output_type": "stream",
     "text": [
      "Probablity that David wins after 50 flips   = 0.42469608\n",
      "Probablity that Kenneth wins after 50 flips = 0.56793700\n"
     ]
    }
   ],
   "source": [
    "n_flips = 50\n",
    "states = np.ndarray(shape=(n_flips, initial_state.shape[0]))\n",
    "for n in range(n_flips):\n",
    "    states[n] = np.dot(initial_state, flip(n))\n",
    "    \n",
    "# Note that this is the probability of David or Kenneth winning after 50 flips, but there is a high probability of \n",
    "# ending up in an absorbing sate well before the 50th flip\n",
    "print('Probablity that David wins after {} flips   = {:.8f}'.format(n_flips, states[n_flips-1, -1]))\n",
    "print('Probablity that Kenneth wins after {} flips = {:.8f}'.format(n_flips, states[n_flips-1, 0]))"
   ]
  },
  {
   "cell_type": "code",
   "execution_count": 9,
   "metadata": {},
   "outputs": [
    {
     "data": {
      "text/plain": [
       "Text(45, 0.5779370049294636, '0.57')"
      ]
     },
     "execution_count": 9,
     "metadata": {},
     "output_type": "execute_result"
    },
    {
     "data": {
      "image/png": "[encoded data removed]",
      "text/plain": [
       "<Figure size 720x576 with 1 Axes>"
      ]
     },
     "metadata": {},
     "output_type": "display_data"
    }
   ],
   "source": [
    "# Plot probability of being in the winning and losing states as a function of n coin flips\n",
    "fig, ax = plt.subplots()\n",
    "s = np.arange(n_flips)\n",
    "ax.plot(s, states[:,0], label='p(lose)')\n",
    "ax.plot(s, states[:,total_dollars], label='p(win)')\n",
    "ax.set_ylim([0,1])\n",
    "ax.set_xlabel('# of flips')\n",
    "ax.set_ylabel('probability')\n",
    "ax.legend()\n",
    "\n",
    "p_win = states[-1,total_dollars]\n",
    "p_lose = states[-1,0]\n",
    "ax.annotate('{:.2f}'.format(p_win), xy=(n_flips-5, p_win+.01), textcoords='data')\n",
    "ax.annotate('{:.2f}'.format(p_lose), xy=(n_flips-5, p_lose+.01), textcoords='data')"
   ]
  },
  {
   "cell_type": "code",
   "execution_count": 10,
   "metadata": {},
   "outputs": [
    {
     "data": {
      "text/plain": [
       "Text(0, 0.5, 'state')"
      ]
     },
     "execution_count": 10,
     "metadata": {},
     "output_type": "execute_result"
    },
    {
     "data": {
      "image/png": "[encoded data removed]",
      "text/plain": [
       "<Figure size 720x576 with 2 Axes>"
      ]
     },
     "metadata": {},
     "output_type": "display_data"
    }
   ],
   "source": [
    "# Plot colormap of the probability of being in each state after n flips\n",
    "fig, ax = plt.subplots()\n",
    "im = ax.pcolormesh(s[:25] - .5, np.arange(total_dollars+2)-.5, states[:25,:].T, cmap='viridis')\n",
    "plt.colorbar(im, label='probability')\n",
    "\n",
    "ax.set_xlabel('# of flips')\n",
    "ax.set_ylabel('state')"
   ]
  }
 ],
 "metadata": {
  "kernelspec": {
   "display_name": "Python 3",
   "language": "python",
   "name": "python3"
  },
  "language_info": {
   "codemirror_mode": {
    "name": "ipython",
    "version": 3
   },
   "file_extension": ".py",
   "mimetype": "text/x-python",
   "name": "python",
   "nbconvert_exporter": "python",
   "pygments_lexer": "ipython3",
   "version": "3.6.3"
  }
 },
 "nbformat": 4,
 "nbformat_minor": 2
}
